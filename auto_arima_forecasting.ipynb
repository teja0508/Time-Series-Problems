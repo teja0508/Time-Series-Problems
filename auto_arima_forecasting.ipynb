{
 "cells": [
  {
   "cell_type": "code",
   "execution_count": 2,
   "metadata": {},
   "outputs": [],
   "source": [
    "#importing important libraries\n",
    "import pandas as pd\n",
    "import numpy as np\n",
    "from pyramid import auto_arima"
   ]
  },
  {
   "cell_type": "code",
   "execution_count": 6,
   "metadata": {},
   "outputs": [
    {
     "data": {
      "text/html": [
       "<div>\n",
       "<style scoped>\n",
       "    .dataframe tbody tr th:only-of-type {\n",
       "        vertical-align: middle;\n",
       "    }\n",
       "\n",
       "    .dataframe tbody tr th {\n",
       "        vertical-align: top;\n",
       "    }\n",
       "\n",
       "    .dataframe thead th {\n",
       "        text-align: right;\n",
       "    }\n",
       "</style>\n",
       "<table border=\"1\" class=\"dataframe\">\n",
       "  <thead>\n",
       "    <tr style=\"text-align: right;\">\n",
       "      <th></th>\n",
       "      <th>#Passengers</th>\n",
       "    </tr>\n",
       "    <tr>\n",
       "      <th>Month</th>\n",
       "      <th></th>\n",
       "    </tr>\n",
       "  </thead>\n",
       "  <tbody>\n",
       "    <tr>\n",
       "      <th>1949-01-01</th>\n",
       "      <td>112</td>\n",
       "    </tr>\n",
       "    <tr>\n",
       "      <th>1949-02-01</th>\n",
       "      <td>118</td>\n",
       "    </tr>\n",
       "    <tr>\n",
       "      <th>1949-03-01</th>\n",
       "      <td>132</td>\n",
       "    </tr>\n",
       "    <tr>\n",
       "      <th>1949-04-01</th>\n",
       "      <td>129</td>\n",
       "    </tr>\n",
       "    <tr>\n",
       "      <th>1949-05-01</th>\n",
       "      <td>121</td>\n",
       "    </tr>\n",
       "  </tbody>\n",
       "</table>\n",
       "</div>"
      ],
      "text/plain": [
       "            #Passengers\n",
       "Month                  \n",
       "1949-01-01          112\n",
       "1949-02-01          118\n",
       "1949-03-01          132\n",
       "1949-04-01          129\n",
       "1949-05-01          121"
      ]
     },
     "execution_count": 6,
     "metadata": {},
     "output_type": "execute_result"
    }
   ],
   "source": [
    "#loading and conveting time series data by setting index as time\n",
    "df = pd.read_csv('AirPassengers.csv')\n",
    "df['Month'] = pd.to_datetime(df['Month'])\n",
    "df.index = df.Month\n",
    "df = df.drop('Month', axis =1)\n",
    "df.head()"
   ]
  },
  {
   "cell_type": "code",
   "execution_count": 9,
   "metadata": {},
   "outputs": [
    {
     "data": {
      "text/plain": [
       "[]"
      ]
     },
     "execution_count": 9,
     "metadata": {},
     "output_type": "execute_result"
    },
    {
     "data": {
      "image/png": "[encoded data removed]",
      "text/plain": [
       "<Figure size 432x288 with 1 Axes>"
      ]
     },
     "metadata": {},
     "output_type": "display_data"
    }
   ],
   "source": [
    "#visualizing timeseries data\n",
    "import matplotlib.pyplot as plt\n",
    "plt.plot(df)\n",
    "plt.xlabel('time')\n",
    "plt.ylabel('passengers')\n",
    "plt.plot()"
   ]
  },
  {
   "cell_type": "code",
   "execution_count": 12,
   "metadata": {},
   "outputs": [
    {
     "name": "stdout",
     "output_type": "stream",
     "text": [
      "(115, 1)\n",
      "(29, 1)\n"
     ]
    }
   ],
   "source": [
    "#divide into train and validation set\n",
    "train = df[:int(0.8*(len(df)))]\n",
    "test = df[int(0.8*(len(df))):]\n",
    "print(train.shape)\n",
    "print(test.shape)"
   ]
  },
  {
   "cell_type": "code",
   "execution_count": 15,
   "metadata": {},
   "outputs": [
    {
     "name": "stdout",
     "output_type": "stream",
     "text": [
      "Fit ARIMA: order=(0, 1, 0) seasonal_order=(0, 0, 0, 1); AIC=1076.519, BIC=1081.991, Fit time=0.012 seconds\n",
      "Fit ARIMA: order=(0, 1, 1) seasonal_order=(0, 0, 0, 1); AIC=1064.624, BIC=1072.833, Fit time=0.075 seconds\n",
      "Fit ARIMA: order=(0, 1, 2) seasonal_order=(0, 0, 0, 1); AIC=1061.078, BIC=1072.023, Fit time=0.067 seconds\n",
      "Fit ARIMA: order=(0, 1, 3) seasonal_order=(0, 0, 0, 1); AIC=1053.366, BIC=1067.047, Fit time=0.231 seconds\n",
      "Fit ARIMA: order=(0, 1, 4) seasonal_order=(0, 0, 0, 1); AIC=nan, BIC=nan, Fit time=nan seconds\n",
      "Fit ARIMA: order=(0, 1, 5) seasonal_order=(0, 0, 0, 1); AIC=1038.249, BIC=1057.402, Fit time=0.321 seconds\n",
      "Fit ARIMA: order=(0, 1, 6) seasonal_order=(0, 0, 0, 1); AIC=nan, BIC=nan, Fit time=nan seconds\n",
      "Fit ARIMA: order=(0, 1, 7) seasonal_order=(0, 0, 0, 1); AIC=nan, BIC=nan, Fit time=nan seconds\n",
      "Fit ARIMA: order=(0, 1, 8) seasonal_order=(0, 0, 0, 1); AIC=nan, BIC=nan, Fit time=nan seconds\n",
      "Fit ARIMA: order=(0, 1, 9) seasonal_order=(0, 0, 0, 1); AIC=nan, BIC=nan, Fit time=nan seconds\n",
      "Fit ARIMA: order=(0, 1, 10) seasonal_order=(0, 0, 0, 1); AIC=nan, BIC=nan, Fit time=nan seconds\n",
      "Fit ARIMA: order=(1, 1, 0) seasonal_order=(0, 0, 0, 1); AIC=1069.440, BIC=1077.648, Fit time=0.037 seconds\n",
      "Fit ARIMA: order=(1, 1, 1) seasonal_order=(0, 0, 0, 1); AIC=1058.834, BIC=1069.778, Fit time=0.082 seconds\n",
      "Fit ARIMA: order=(1, 1, 2) seasonal_order=(0, 0, 0, 1); AIC=1046.051, BIC=1059.732, Fit time=0.203 seconds\n",
      "Fit ARIMA: order=(1, 1, 3) seasonal_order=(0, 0, 0, 1); AIC=1047.911, BIC=1064.328, Fit time=0.264 seconds\n",
      "Fit ARIMA: order=(1, 1, 4) seasonal_order=(0, 0, 0, 1); AIC=nan, BIC=nan, Fit time=nan seconds\n",
      "Fit ARIMA: order=(1, 1, 5) seasonal_order=(0, 0, 0, 1); AIC=nan, BIC=nan, Fit time=nan seconds\n",
      "Fit ARIMA: order=(1, 1, 6) seasonal_order=(0, 0, 0, 1); AIC=nan, BIC=nan, Fit time=nan seconds\n",
      "Fit ARIMA: order=(1, 1, 7) seasonal_order=(0, 0, 0, 1); AIC=nan, BIC=nan, Fit time=nan seconds\n",
      "Fit ARIMA: order=(1, 1, 8) seasonal_order=(0, 0, 0, 1); AIC=nan, BIC=nan, Fit time=nan seconds\n",
      "Fit ARIMA: order=(1, 1, 9) seasonal_order=(0, 0, 0, 1); AIC=nan, BIC=nan, Fit time=nan seconds\n",
      "Fit ARIMA: order=(2, 1, 0) seasonal_order=(0, 0, 0, 1); AIC=1066.203, BIC=1077.148, Fit time=0.069 seconds\n",
      "Fit ARIMA: order=(2, 1, 1) seasonal_order=(0, 0, 0, 1); AIC=1045.658, BIC=1059.339, Fit time=0.281 seconds\n",
      "Fit ARIMA: order=(2, 1, 2) seasonal_order=(0, 0, 0, 1); AIC=1047.202, BIC=1063.619, Fit time=0.146 seconds\n",
      "Fit ARIMA: order=(2, 1, 3) seasonal_order=(0, 0, 0, 1); AIC=nan, BIC=nan, Fit time=nan seconds\n",
      "Fit ARIMA: order=(2, 1, 4) seasonal_order=(0, 0, 0, 1); AIC=nan, BIC=nan, Fit time=nan seconds\n",
      "Fit ARIMA: order=(2, 1, 5) seasonal_order=(0, 0, 0, 1); AIC=nan, BIC=nan, Fit time=nan seconds\n",
      "Fit ARIMA: order=(2, 1, 6) seasonal_order=(0, 0, 0, 1); AIC=nan, BIC=nan, Fit time=nan seconds\n",
      "Fit ARIMA: order=(2, 1, 7) seasonal_order=(0, 0, 0, 1); AIC=nan, BIC=nan, Fit time=nan seconds\n",
      "Fit ARIMA: order=(2, 1, 8) seasonal_order=(0, 0, 0, 1); AIC=nan, BIC=nan, Fit time=nan seconds\n",
      "Fit ARIMA: order=(3, 1, 0) seasonal_order=(0, 0, 0, 1); AIC=1068.093, BIC=1081.774, Fit time=0.072 seconds\n",
      "Fit ARIMA: order=(3, 1, 1) seasonal_order=(0, 0, 0, 1); AIC=1061.615, BIC=1078.032, Fit time=0.215 seconds\n",
      "Fit ARIMA: order=(3, 1, 2) seasonal_order=(0, 0, 0, 1); AIC=nan, BIC=nan, Fit time=nan seconds\n",
      "Fit ARIMA: order=(3, 1, 3) seasonal_order=(0, 0, 0, 1); AIC=nan, BIC=nan, Fit time=nan seconds\n",
      "Fit ARIMA: order=(3, 1, 4) seasonal_order=(0, 0, 0, 1); AIC=nan, BIC=nan, Fit time=nan seconds\n",
      "Fit ARIMA: order=(3, 1, 5) seasonal_order=(0, 0, 0, 1); AIC=nan, BIC=nan, Fit time=nan seconds\n",
      "Fit ARIMA: order=(3, 1, 6) seasonal_order=(0, 0, 0, 1); AIC=nan, BIC=nan, Fit time=nan seconds\n",
      "Fit ARIMA: order=(3, 1, 7) seasonal_order=(0, 0, 0, 1); AIC=nan, BIC=nan, Fit time=nan seconds\n",
      "Fit ARIMA: order=(4, 1, 0) seasonal_order=(0, 0, 0, 1); AIC=1059.181, BIC=1075.598, Fit time=0.101 seconds\n",
      "Fit ARIMA: order=(4, 1, 1) seasonal_order=(0, 0, 0, 1); AIC=1059.461, BIC=1078.615, Fit time=0.322 seconds\n",
      "Fit ARIMA: order=(4, 1, 2) seasonal_order=(0, 0, 0, 1); AIC=1038.907, BIC=1060.797, Fit time=0.380 seconds\n",
      "Fit ARIMA: order=(4, 1, 3) seasonal_order=(0, 0, 0, 1); AIC=1024.814, BIC=1049.440, Fit time=0.438 seconds\n",
      "Fit ARIMA: order=(4, 1, 4) seasonal_order=(0, 0, 0, 1); AIC=nan, BIC=nan, Fit time=nan seconds\n",
      "Fit ARIMA: order=(4, 1, 5) seasonal_order=(0, 0, 0, 1); AIC=nan, BIC=nan, Fit time=nan seconds\n",
      "Fit ARIMA: order=(4, 1, 6) seasonal_order=(0, 0, 0, 1); AIC=1019.659, BIC=1052.494, Fit time=0.690 seconds\n",
      "Fit ARIMA: order=(5, 1, 0) seasonal_order=(0, 0, 0, 1); AIC=1060.828, BIC=1079.981, Fit time=0.156 seconds\n",
      "Fit ARIMA: order=(5, 1, 1) seasonal_order=(0, 0, 0, 1); AIC=1057.978, BIC=1079.867, Fit time=0.405 seconds\n",
      "Fit ARIMA: order=(5, 1, 2) seasonal_order=(0, 0, 0, 1); AIC=1039.740, BIC=1064.366, Fit time=0.382 seconds\n",
      "Fit ARIMA: order=(5, 1, 3) seasonal_order=(0, 0, 0, 1); AIC=nan, BIC=nan, Fit time=nan seconds\n",
      "Fit ARIMA: order=(5, 1, 4) seasonal_order=(0, 0, 0, 1); AIC=nan, BIC=nan, Fit time=nan seconds\n",
      "Fit ARIMA: order=(5, 1, 5) seasonal_order=(0, 0, 0, 1); AIC=nan, BIC=nan, Fit time=nan seconds\n",
      "Fit ARIMA: order=(6, 1, 0) seasonal_order=(0, 0, 0, 1); AIC=1061.597, BIC=1083.487, Fit time=0.211 seconds\n",
      "Fit ARIMA: order=(6, 1, 1) seasonal_order=(0, 0, 0, 1); AIC=1033.326, BIC=1057.951, Fit time=0.447 seconds\n",
      "Fit ARIMA: order=(6, 1, 2) seasonal_order=(0, 0, 0, 1); AIC=1041.164, BIC=1068.526, Fit time=0.398 seconds\n",
      "Fit ARIMA: order=(6, 1, 3) seasonal_order=(0, 0, 0, 1); AIC=nan, BIC=nan, Fit time=nan seconds\n",
      "Fit ARIMA: order=(6, 1, 4) seasonal_order=(0, 0, 0, 1); AIC=nan, BIC=nan, Fit time=nan seconds\n",
      "Fit ARIMA: order=(7, 1, 0) seasonal_order=(0, 0, 0, 1); AIC=1058.520, BIC=1083.146, Fit time=0.155 seconds\n",
      "Fit ARIMA: order=(7, 1, 1) seasonal_order=(0, 0, 0, 1); AIC=1021.192, BIC=1048.554, Fit time=0.534 seconds\n",
      "Fit ARIMA: order=(7, 1, 2) seasonal_order=(0, 0, 0, 1); AIC=1034.406, BIC=1064.504, Fit time=0.571 seconds\n",
      "Fit ARIMA: order=(7, 1, 3) seasonal_order=(0, 0, 0, 1); AIC=nan, BIC=nan, Fit time=nan seconds\n",
      "Fit ARIMA: order=(8, 1, 0) seasonal_order=(0, 0, 0, 1); AIC=1029.458, BIC=1056.820, Fit time=0.442 seconds\n",
      "Fit ARIMA: order=(8, 1, 1) seasonal_order=(0, 0, 0, 1); AIC=999.737, BIC=1029.835, Fit time=0.701 seconds\n",
      "Fit ARIMA: order=(8, 1, 2) seasonal_order=(0, 0, 0, 1); AIC=963.655, BIC=996.489, Fit time=0.644 seconds\n",
      "Fit ARIMA: order=(9, 1, 0) seasonal_order=(0, 0, 0, 1); AIC=1024.565, BIC=1054.663, Fit time=0.382 seconds\n",
      "Fit ARIMA: order=(9, 1, 1) seasonal_order=(0, 0, 0, 1); AIC=997.820, BIC=1030.654, Fit time=0.611 seconds\n",
      "Fit ARIMA: order=(10, 1, 0) seasonal_order=(0, 0, 0, 1); AIC=nan, BIC=nan, Fit time=nan seconds\n",
      "Total fit time: 10.113 seconds\n"
     ]
    },
    {
     "data": {
      "text/plain": [
       "ARIMA(callback=None, disp=0, maxiter=50, method=None, order=(8, 1, 2),\n",
       "   out_of_sample_size=0, scoring='mse', scoring_args={},\n",
       "   seasonal_order=(0, 0, 0, 1), solver='lbfgs', start_params=None,\n",
       "   suppress_warnings=True, transparams=True, trend='c')"
      ]
     },
     "execution_count": 15,
     "metadata": {},
     "output_type": "execute_result"
    }
   ],
   "source": [
    "#training model\n",
    "model = auto_arima(train, trace=True,start_p=0, start_q=0, start_P=0, start_Q=0,\n",
    "                  max_p=10, max_q=10, max_P=10, max_Q=10, seasonal=True,\n",
    "                  stepwise=False, suppress_warnings=True, D=1, max_D=10,\n",
    "                  error_action='ignore',approximation = False)\n",
    "#fitting model\n",
    "model.fit(train)"
   ]
  },
  {
   "cell_type": "code",
   "execution_count": 19,
   "metadata": {},
   "outputs": [
    {
     "name": "stdout",
     "output_type": "stream",
     "text": [
      "0.7774381255681063\n"
     ]
    }
   ],
   "source": [
    "#predicting values and evaluating model\n",
    "y_pred = model.predict(n_periods=len(valid))\n",
    "from sklearn.metrics import r2_score\n",
    "acc = r2_score(valid.values, y_pred)\n",
    "print(acc)"
   ]
  },
  {
   "cell_type": "code",
   "execution_count": null,
   "metadata": {},
   "outputs": [],
   "source": []
  },
  {
   "cell_type": "code",
   "execution_count": null,
   "metadata": {},
   "outputs": [],
   "source": []
  }
 ],
 "metadata": {
  "kernelspec": {
   "display_name": "Python 3",
   "language": "python",
   "name": "python3"
  },
  "language_info": {
   "codemirror_mode": {
    "name": "ipython",
    "version": 3
   },
   "file_extension": ".py",
   "mimetype": "text/x-python",
   "name": "python",
   "nbconvert_exporter": "python",
   "pygments_lexer": "ipython3",
   "version": "3.7.4"
  }
 },
 "nbformat": 4,
 "nbformat_minor": 2
}
